{
  "nbformat": 4,
  "nbformat_minor": 0,
  "metadata": {
    "colab": {
      "name": "pattern in python.ipynb",
      "version": "0.3.2",
      "provenance": [],
      "collapsed_sections": [],
      "include_colab_link": true
    },
    "kernelspec": {
      "name": "python3",
      "display_name": "Python 3"
    }
  },
  "cells": [
    {
      "cell_type": "markdown",
      "metadata": {
        "id": "view-in-github",
        "colab_type": "text"
      },
      "source": [
        "<a href=\"https://colab.research.google.com/github/smzahir/practicals/blob/master/pattern_in_python.ipynb\" target=\"_parent\"><img src=\"https://colab.research.google.com/assets/colab-badge.svg\" alt=\"Open In Colab\"/></a>"
      ]
    },
    {
      "cell_type": "code",
      "metadata": {
        "id": "eqEz06CVFMqx",
        "colab_type": "code",
        "colab": {
          "base_uri": "https://localhost:8080/",
          "height": 101
        },
        "outputId": "0062c5e8-07f8-4b32-dda5-53fb3d3b9136"
      },
      "source": [
        "def pattern_1():\n",
        "\n",
        "    for i in range(5):\n",
        "        for j in range(i+1):\n",
        "            print('*', end=\"\")\n",
        "        print()\n",
        "\n",
        "\n",
        "pattern_1()"
      ],
      "execution_count": 2,
      "outputs": [
        {
          "output_type": "stream",
          "text": [
            "*\n",
            "**\n",
            "***\n",
            "****\n",
            "*****\n"
          ],
          "name": "stdout"
        }
      ]
    },
    {
      "cell_type": "code",
      "metadata": {
        "id": "DaL3GFpEIas6",
        "colab_type": "code",
        "colab": {
          "base_uri": "https://localhost:8080/",
          "height": 101
        },
        "outputId": "9c695a5d-7b09-4462-fde5-6b0aea65cfce"
      },
      "source": [
        "def pattern_2():\n",
        "\n",
        "    for i in range(5):\n",
        "        for j in range(5-i):\n",
        "            print('*', end=\"\")\n",
        "        print()\n",
        "\n",
        "\n",
        "pattern_2()"
      ],
      "execution_count": 3,
      "outputs": [
        {
          "output_type": "stream",
          "text": [
            "*****\n",
            "****\n",
            "***\n",
            "**\n",
            "*\n"
          ],
          "name": "stdout"
        }
      ]
    },
    {
      "cell_type": "code",
      "metadata": {
        "id": "oRDcd00gJL-4",
        "colab_type": "code",
        "colab": {
          "base_uri": "https://localhost:8080/",
          "height": 151
        },
        "outputId": "01feba22-c083-4ad3-c37c-09684821847f"
      },
      "source": [
        "def pattern_3():\n",
        "\n",
        "    for i in range(4):\n",
        "        for j in range(i+1):\n",
        "            print('*', end=\"\")\n",
        "        print()\n",
        "    for i in range(4):\n",
        "        for j in range(4-i):\n",
        "            print('*', end=\"\")\n",
        "        print()\n",
        "\n",
        "\n",
        "pattern_3()"
      ],
      "execution_count": 4,
      "outputs": [
        {
          "output_type": "stream",
          "text": [
            "*\n",
            "**\n",
            "***\n",
            "****\n",
            "****\n",
            "***\n",
            "**\n",
            "*\n"
          ],
          "name": "stdout"
        }
      ]
    }
  ]
}